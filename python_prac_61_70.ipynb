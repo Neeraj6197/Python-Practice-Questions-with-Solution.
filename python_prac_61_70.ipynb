{
  "nbformat": 4,
  "nbformat_minor": 0,
  "metadata": {
    "colab": {
      "provenance": []
    },
    "kernelspec": {
      "name": "python3",
      "display_name": "Python 3"
    },
    "language_info": {
      "name": "python"
    }
  },
  "cells": [
    {
      "cell_type": "markdown",
      "source": [
        "61. Write a python program to reverse a list\n"
      ],
      "metadata": {
        "id": "w4iRKrnMMKlU"
      }
    },
    {
      "cell_type": "code",
      "execution_count": null,
      "metadata": {
        "colab": {
          "base_uri": "https://localhost:8080/"
        },
        "id": "zQzrfJ_7Lu-h",
        "outputId": "6ac54c51-0d29-4ab4-e000-4376a75d5aa2"
      },
      "outputs": [
        {
          "output_type": "stream",
          "name": "stdout",
          "text": [
            "Enter the elements: 13245\n",
            "['1', '3', '2', '4', '5']\n",
            "reversed ['5', '4', '2', '3', '1']\n"
          ]
        }
      ],
      "source": [
        "L = list(input(\"Enter the elements: \"))\n",
        "\n",
        "print(L)\n",
        "rev = L[::-1]\n",
        "print(\"reversed\",rev)"
      ]
    },
    {
      "cell_type": "code",
      "source": [
        "L = list(input(\"Enter the elements: \"))\n",
        "rev = []\n",
        "for i in range(len(L)-1,-1,-1):\n",
        "  rev.append(L[i])\n",
        "print(L)\n",
        "print(\"reversed\",rev)"
      ],
      "metadata": {
        "colab": {
          "base_uri": "https://localhost:8080/"
        },
        "id": "h7G5YY2eMZBx",
        "outputId": "d9d674ee-8e96-4fc0-c253-ee8869aea6c3"
      },
      "execution_count": null,
      "outputs": [
        {
          "output_type": "stream",
          "name": "stdout",
          "text": [
            "Enter the elements: 12345\n",
            "['1', '2', '3', '4', '5']\n",
            "reversed ['5', '4', '3', '2', '1']\n"
          ]
        }
      ]
    },
    {
      "cell_type": "markdown",
      "source": [
        "62.Write a python program to search a given number from a list"
      ],
      "metadata": {
        "id": "xIr3Uh3yNTgd"
      }
    },
    {
      "cell_type": "code",
      "source": [
        "L = list(input(\"Enter the elements: \"))\n",
        "n = input(\"Enter the number to find: \")\n",
        "for i in L:\n",
        "  if n == i:\n",
        "    print(n,\"on index\",L.index(i))\n"
      ],
      "metadata": {
        "colab": {
          "base_uri": "https://localhost:8080/"
        },
        "id": "Y6ULR90aND4W",
        "outputId": "ea993e4a-75c5-420f-c977-365ff4b507fb"
      },
      "execution_count": null,
      "outputs": [
        {
          "output_type": "stream",
          "name": "stdout",
          "text": [
            "Enter the elements: suoerman\n",
            "Enter the number to find: a\n",
            "a on index 6\n"
          ]
        }
      ]
    },
    {
      "cell_type": "markdown",
      "source": [
        "63.Write a program that can create a new list from a given list where each\n",
        "item in the new list is square of the item of the old list"
      ],
      "metadata": {
        "id": "nbEpS7ebPP4W"
      }
    },
    {
      "cell_type": "code",
      "source": [
        "L = list(input(\"Enter the number in the list: \"))\n",
        "\n",
        "def squared_list(L):\n",
        "  list1 = []\n",
        "  for i in L:\n",
        "    if i.isdigit() == True:\n",
        "      a = int(i)**2\n",
        "      list1.append(a)\n",
        "  if len(list1) == 0:\n",
        "    print(\"Please enter a valid number to square.\")\n",
        "  return list1\n",
        "\n",
        "\n",
        "squared_list(L)"
      ],
      "metadata": {
        "colab": {
          "base_uri": "https://localhost:8080/"
        },
        "id": "J63IbY9XNjyb",
        "outputId": "dc18e746-3a25-4b88-eb6f-3f0fe05c063d"
      },
      "execution_count": null,
      "outputs": [
        {
          "output_type": "stream",
          "name": "stdout",
          "text": [
            "Enter the number in the list: asd\n",
            "Please enter a valid number to square.\n"
          ]
        },
        {
          "output_type": "execute_result",
          "data": {
            "text/plain": [
              "[]"
            ]
          },
          "metadata": {},
          "execution_count": 29
        }
      ]
    },
    {
      "cell_type": "markdown",
      "source": [
        "64.Write a program that can reverse words of a given string.\n",
        "Eg if the input is Hello how are you\n",
        "Output should be you are how Hello"
      ],
      "metadata": {
        "id": "IXAaxQtASDb4"
      }
    },
    {
      "cell_type": "code",
      "source": [
        "text = input(\"Enter your text: \")\n",
        "\n",
        "def reversed_text(text):\n",
        "  L = text.split(\" \")\n",
        "  for i in range(len(L)-1,-1,-1):\n",
        "    print(L[i],end=\" \")\n",
        "\n",
        "reversed_text(text)"
      ],
      "metadata": {
        "colab": {
          "base_uri": "https://localhost:8080/"
        },
        "id": "ObsiPSYxRPv3",
        "outputId": "a99a2029-d112-4fdd-d857-16014ba74427"
      },
      "execution_count": null,
      "outputs": [
        {
          "output_type": "stream",
          "name": "stdout",
          "text": [
            "Enter your text: my name is superman\n",
            "superman is name my "
          ]
        }
      ]
    },
    {
      "cell_type": "markdown",
      "source": [
        "65.Write a program that can count the number of words in a given string"
      ],
      "metadata": {
        "id": "ijmP3ivuS66J"
      }
    },
    {
      "cell_type": "code",
      "source": [
        "text = input(\"Enter the text: \")\n",
        "L = text.split(\" \")\n",
        "\n",
        "print(len(L),\"number of words in the text.\")"
      ],
      "metadata": {
        "colab": {
          "base_uri": "https://localhost:8080/"
        },
        "id": "hBds7UpeS6RK",
        "outputId": "6820047b-42ad-4fb5-a2ed-076ef4d1fcba"
      },
      "execution_count": null,
      "outputs": [
        {
          "output_type": "stream",
          "name": "stdout",
          "text": [
            "Enter the text: my name is superman\n",
            "4 number of words in the text.\n"
          ]
        }
      ]
    },
    {
      "cell_type": "markdown",
      "source": [
        "66.Write a program to check if a list is in ascending order or not"
      ],
      "metadata": {
        "id": "jaecvQS6TipP"
      }
    },
    {
      "cell_type": "code",
      "source": [
        "L = list(input(\"Enter the elements in the list\"))\n",
        "\n",
        "def ascending_list(L):\n",
        "  L1 = []\n",
        "  L2 = []\n",
        "  for i in L:\n",
        "    L1.append(int(i))\n",
        "    L2.append(int(i))\n",
        "  L2.sort()\n",
        "  if L1 == L2:\n",
        "    print(\"List is in ascending order.\")\n",
        "  else:\n",
        "    print(\"List is not in ascending order.\")\n",
        "\n",
        "ascending_list(L)"
      ],
      "metadata": {
        "colab": {
          "base_uri": "https://localhost:8080/"
        },
        "id": "xIEx5ry6SskR",
        "outputId": "e79242ea-bff0-4407-e8ab-0e21386e3b1a"
      },
      "execution_count": null,
      "outputs": [
        {
          "output_type": "stream",
          "name": "stdout",
          "text": [
            "Enter the elements in the list54321\n",
            "List is not in ascending order.\n"
          ]
        }
      ]
    },
    {
      "cell_type": "markdown",
      "source": [
        "67.Create 2 lists from a given list where 1st list will contain all the odd\n",
        "numbers from the original list and the 2nd one will contain all the even\n",
        "numbers"
      ],
      "metadata": {
        "id": "LR3tsKe6WYph"
      }
    },
    {
      "cell_type": "code",
      "source": [
        "L = list(input(\"Enter the elements in the list\"))\n",
        "def odd_even(L):\n",
        "  L1 = [int(i) for i in L]\n",
        "  evens = [i for i in L1 if i % 2 == 0]\n",
        "  odds = [i for i in L1 if i % 2 != 0]\n",
        "  return evens, odds\n",
        "\n",
        "odd_even(L)"
      ],
      "metadata": {
        "colab": {
          "base_uri": "https://localhost:8080/"
        },
        "id": "MjrbtLjoWUjj",
        "outputId": "a1636551-70a4-47fc-a5c4-0255b1718635"
      },
      "execution_count": null,
      "outputs": [
        {
          "name": "stdout",
          "output_type": "stream",
          "text": [
            "Enter the elements in the list123456\n"
          ]
        },
        {
          "output_type": "execute_result",
          "data": {
            "text/plain": [
              "([2, 4, 6], [1, 3, 5])"
            ]
          },
          "metadata": {},
          "execution_count": 59
        }
      ]
    },
    {
      "cell_type": "markdown",
      "source": [
        "68.Write a program to merge 2 list without using the + operator\n"
      ],
      "metadata": {
        "id": "bjyIrTGkZxy-"
      }
    },
    {
      "cell_type": "code",
      "source": [
        "L1 = input(\"Enter the elements in the 1st list: \")\n",
        "L2 = input(\"Enter the elements in the 2nd list: \")\n",
        "\n",
        "def new_list(L1,L2):\n",
        "  L3 = []\n",
        "  for i in L1:\n",
        "    L3.append(i)\n",
        "  for j in L2:\n",
        "    L3.append(j)\n",
        "  return L3\n",
        "\n",
        "new_list(L1,L2)"
      ],
      "metadata": {
        "colab": {
          "base_uri": "https://localhost:8080/"
        },
        "id": "tdHxS7WWXfdP",
        "outputId": "bab96047-30be-4a78-9cfb-ae61f55bb641"
      },
      "execution_count": null,
      "outputs": [
        {
          "name": "stdout",
          "output_type": "stream",
          "text": [
            "Enter the elements in the 1st list: abc\n",
            "Enter the elements in the 2nd list: def\n"
          ]
        },
        {
          "output_type": "execute_result",
          "data": {
            "text/plain": [
              "['a', 'b', 'c', 'd', 'e', 'f']"
            ]
          },
          "metadata": {},
          "execution_count": 64
        }
      ]
    },
    {
      "cell_type": "markdown",
      "source": [
        "69.Write a program to replace an item with a different item if found in the\n",
        "list"
      ],
      "metadata": {
        "id": "o_kKehZYbcIM"
      }
    },
    {
      "cell_type": "code",
      "source": [
        "L = list(input(\"Enter the elements in the list\"))\n",
        "item1 = input(\"Enter the item to replace from the list\")\n",
        "item2 = input(\"Enter the item to be replaced: \")\n",
        "\n",
        "def replace_item(L,item1,item2):\n",
        "  if item1 in L:\n",
        "    ind = L.index(item1)\n",
        "    L.insert(ind,item2)\n",
        "    L.remove(item1)\n",
        "  return L\n",
        "\n",
        "replace_item(L,item1,item2)\n"
      ],
      "metadata": {
        "colab": {
          "base_uri": "https://localhost:8080/"
        },
        "id": "IfDJznHzatjX",
        "outputId": "96d439d5-bfb9-40eb-d489-1205731a768d"
      },
      "execution_count": null,
      "outputs": [
        {
          "name": "stdout",
          "output_type": "stream",
          "text": [
            "Enter the elements in the list12356\n",
            "Enter the item to replace from the list3\n",
            "Enter the item to be replaced: 8\n"
          ]
        },
        {
          "output_type": "execute_result",
          "data": {
            "text/plain": [
              "['1', '2', '8', '5', '6']"
            ]
          },
          "metadata": {},
          "execution_count": 69
        }
      ]
    },
    {
      "cell_type": "markdown",
      "source": [
        "70.Write a program that can convert a 2D list to 1D listWrite a program that\n",
        "can print\n"
      ],
      "metadata": {
        "id": "FnwDj6pfdXpr"
      }
    },
    {
      "cell_type": "code",
      "source": [
        "L1 = [list(input(\"Enter the elements: \"))]\n",
        "L2 = []\n",
        "for i in L1:\n",
        "  for j in range(len(i)):\n",
        "    L2.append(i[j])\n",
        "print(L1)\n",
        "print(L2)\n"
      ],
      "metadata": {
        "colab": {
          "base_uri": "https://localhost:8080/"
        },
        "id": "PRNF6bxxcntn",
        "outputId": "a26150de-c8f7-4776-cddc-30a221b48787"
      },
      "execution_count": null,
      "outputs": [
        {
          "output_type": "stream",
          "name": "stdout",
          "text": [
            "Enter the elements: 12345\n",
            "[['1', '2', '3', '4', '5']]\n",
            "['1', '2', '3', '4', '5']\n"
          ]
        }
      ]
    },
    {
      "cell_type": "code",
      "source": [],
      "metadata": {
        "id": "BbwTbtMremnO"
      },
      "execution_count": null,
      "outputs": []
    }
  ]
}