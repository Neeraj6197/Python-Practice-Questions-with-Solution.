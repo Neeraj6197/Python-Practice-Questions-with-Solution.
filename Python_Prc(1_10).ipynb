{
  "cells": [
    {
      "cell_type": "markdown",
      "source": [
        "1. User will input (3ages).Find the oldest one\n"
      ],
      "metadata": {
        "id": "ML_kOYjn7AMd"
      }
    },
    {
      "cell_type": "code",
      "execution_count": null,
      "metadata": {
        "id": "Ms-VmQxr-U2Q",
        "colab": {
          "base_uri": "https://localhost:8080/"
        },
        "outputId": "244a87ce-3c11-4450-9aed-314a869a53bd"
      },
      "outputs": [
        {
          "output_type": "stream",
          "name": "stdout",
          "text": [
            "Enter the first age: 65\n",
            "Enter the second age: 25\n",
            "Enter the third age: 13\n",
            "65 is the oldest one.\n"
          ]
        }
      ],
      "source": [
        "first_age = int(input(\"Enter the first age: \"))\n",
        "second_age = int(input(\"Enter the second age: \"))\n",
        "third_age = int(input(\"Enter the third age: \"))\n",
        "\n",
        "L = []\n",
        "L.extend([first_age,second_age,third_age])\n",
        "print(max(L),\"is the oldest one.\")\n"
      ]
    },
    {
      "cell_type": "markdown",
      "source": [
        "2. Write a program that will convert celsius value to fahrenheit\n"
      ],
      "metadata": {
        "id": "fH4MyM_y8cy2"
      }
    },
    {
      "cell_type": "code",
      "execution_count": null,
      "metadata": {
        "id": "eJK1ok5WE__9",
        "colab": {
          "base_uri": "https://localhost:8080/"
        },
        "outputId": "24985316-6ca9-4b00-cbe2-fd6ec6e8c2a3"
      },
      "outputs": [
        {
          "output_type": "stream",
          "name": "stdout",
          "text": [
            "33.8 farenheit\n"
          ]
        }
      ],
      "source": [
        "def farenheit(C):\n",
        "  F = 32 + (9/5)*C\n",
        "  print(F,\"farenheit\")\n",
        "\n",
        "farenheit(1)"
      ]
    },
    {
      "cell_type": "markdown",
      "source": [
        "3. User will input (2numbers).Write a program to swap the numbers"
      ],
      "metadata": {
        "id": "5Aw59GBc-FJI"
      }
    },
    {
      "cell_type": "code",
      "execution_count": null,
      "metadata": {
        "id": "LSxS_u3zE_-q",
        "colab": {
          "base_uri": "https://localhost:8080/"
        },
        "outputId": "8d506ade-eecb-410c-efa6-bb608c5f0854"
      },
      "outputs": [
        {
          "name": "stdout",
          "output_type": "stream",
          "text": [
            "Enter the 1st number: 26\n",
            "Enter the 2nd number: 62\n"
          ]
        },
        {
          "output_type": "execute_result",
          "data": {
            "text/plain": [
              "(62, 26)"
            ]
          },
          "metadata": {},
          "execution_count": 12
        }
      ],
      "source": [
        "num1 = int(input(\"Enter the 1st number: \"))\n",
        "num2 = int(input(\"Enter the 2nd number: \"))\n",
        "\n",
        "def swap(num1=num1,num2=num2):\n",
        "  m = num1\n",
        "  num1 = num2\n",
        "  num2 = m\n",
        "  print(num1,num2)\n",
        "\n",
        "swap()"
      ]
    },
    {
      "cell_type": "markdown",
      "source": [
        "4. Write a program that will give you the sum of 3 digits"
      ],
      "metadata": {
        "id": "ecvu7xr5_UUp"
      }
    },
    {
      "cell_type": "code",
      "execution_count": null,
      "metadata": {
        "id": "sbj5cB_OE_54",
        "colab": {
          "base_uri": "https://localhost:8080/"
        },
        "outputId": "f1670d6c-b6bf-4121-bf5f-ee02445a76ce"
      },
      "outputs": [
        {
          "output_type": "execute_result",
          "data": {
            "text/plain": [
              "6"
            ]
          },
          "metadata": {},
          "execution_count": 14
        }
      ],
      "source": [
        "def SumOf3(digit):\n",
        "  digit = str(digit)\n",
        "  a = int(digit[0])\n",
        "  b = int(digit[1])\n",
        "  c = int(digit[2])\n",
        "  total = a+b+c\n",
        "  return(total)\n",
        "\n",
        "SumOf3(222)"
      ]
    },
    {
      "cell_type": "code",
      "execution_count": null,
      "metadata": {
        "id": "tGX0ObltE_4T",
        "colab": {
          "base_uri": "https://localhost:8080/"
        },
        "outputId": "b8c23f61-ccd4-4e2c-ff84-e5fc4d21d81b"
      },
      "outputs": [
        {
          "output_type": "execute_result",
          "data": {
            "text/plain": [
              "10"
            ]
          },
          "metadata": {},
          "execution_count": 23
        }
      ],
      "source": [
        "def Sum_Of_Digits(digit=0):\n",
        "  digit = str(digit)\n",
        "  digit = list(digit)\n",
        "  L = []\n",
        "  for i in digit:\n",
        "    a = int(i)\n",
        "    L.append(a)\n",
        "  total = sum(L)\n",
        "  return(total)\n",
        "\n",
        "Sum_Of_Digits(22222)"
      ]
    },
    {
      "cell_type": "markdown",
      "source": [
        "5. Write a program that will reverse a four digit number.Also it checks\n",
        "whether the reverse is true."
      ],
      "metadata": {
        "id": "mxbvMB9DB0iC"
      }
    },
    {
      "cell_type": "code",
      "execution_count": null,
      "metadata": {
        "id": "fXeRt6RP-UzF",
        "colab": {
          "base_uri": "https://localhost:8080/"
        },
        "outputId": "9b53f97b-4caf-41da-8688-99ba4f2dd198"
      },
      "outputs": [
        {
          "output_type": "stream",
          "name": "stdout",
          "text": [
            "Enter a valid 4 digit number\n"
          ]
        }
      ],
      "source": [
        "def rev4(num):\n",
        "\n",
        "  if len(str(num)) == 4:\n",
        "    a = num % 10\n",
        "    b = num // 10\n",
        "    c = b % 10\n",
        "    d = b // 10\n",
        "    e = d % 10\n",
        "    f = d // 10\n",
        "\n",
        "    new_num = a*1000 + c*100 + e*10 + f\n",
        "    if new_num == num:\n",
        "      print(\"True\",num,new_num)\n",
        "    else:\n",
        "      print(\"False\",num,new_num)\n",
        "  else:\n",
        "    print(\"Enter a valid 4 digit number\")\n",
        "\n",
        "rev4(333)"
      ]
    },
    {
      "cell_type": "markdown",
      "source": [
        "6. Write a program that will tell whether the number entered by the\n",
        "user is odd or even."
      ],
      "metadata": {
        "id": "3dMndIf_HxBV"
      }
    },
    {
      "cell_type": "code",
      "source": [
        "def odd_even(num):\n",
        "  if num % 2 == 0:\n",
        "    print(num,\"is Even\")\n",
        "  else:\n",
        "    print(num,\"is Odd\")\n",
        "\n",
        "odd_even(32)"
      ],
      "metadata": {
        "colab": {
          "base_uri": "https://localhost:8080/"
        },
        "id": "kn7IKmQ-EzbO",
        "outputId": "546f8ef1-8709-41b7-f830-01938203ed33"
      },
      "execution_count": null,
      "outputs": [
        {
          "output_type": "stream",
          "name": "stdout",
          "text": [
            "32 is Even\n"
          ]
        }
      ]
    },
    {
      "cell_type": "markdown",
      "source": [
        "7. Write a program that will tell whether the given year is a leap year\n",
        "or not."
      ],
      "metadata": {
        "id": "ZfYPIdMlIRM6"
      }
    },
    {
      "cell_type": "code",
      "source": [
        "def leap_year(year):\n",
        "  if year % 4 == 0:\n",
        "    print(year, \"is a leap year!\")\n",
        "  else:\n",
        "    print(year,\"is not a leap year!\")\n",
        "\n",
        "leap_year(2022)"
      ],
      "metadata": {
        "colab": {
          "base_uri": "https://localhost:8080/"
        },
        "id": "7l02F_E_Hwfp",
        "outputId": "ccaa0205-b202-4abb-9cb6-cd346940398e"
      },
      "execution_count": null,
      "outputs": [
        {
          "output_type": "stream",
          "name": "stdout",
          "text": [
            "2022 is not a leap year!\n"
          ]
        }
      ]
    },
    {
      "cell_type": "markdown",
      "source": [
        "8. Write a program to find the euclidean distance between two\n",
        "coordinates."
      ],
      "metadata": {
        "id": "1ZuocBnMLK0V"
      }
    },
    {
      "cell_type": "code",
      "source": [
        "def euclidean(x1,x2,y1,y2):\n",
        "  d = ((x2-x1)**2 + (y2-y1)**2)**0.5\n",
        "  print(\"distance between\",(x1,x2),(y1,y2),\"is\",d)\n",
        "\n",
        "euclidean(1,2,4,5)"
      ],
      "metadata": {
        "colab": {
          "base_uri": "https://localhost:8080/"
        },
        "id": "CiK5vXJOHwb3",
        "outputId": "818b7eaa-4cdc-48fc-d1e1-9ce84ce88db9"
      },
      "execution_count": null,
      "outputs": [
        {
          "output_type": "stream",
          "name": "stdout",
          "text": [
            "distance between (1, 2) (4, 5) is 1.4142135623730951\n"
          ]
        }
      ]
    },
    {
      "cell_type": "markdown",
      "source": [
        "9. Write a program that take a user inputr of three angles and will\n",
        "find out whether it can form a triangle or not."
      ],
      "metadata": {
        "id": "gAR3E6SYM36V"
      }
    },
    {
      "cell_type": "code",
      "source": [
        "def is_triangle(a1,a2,a3):\n",
        "  if sum([a1,a2,a3]) == 180:\n",
        "    print(\"Its a triangle\")\n",
        "  else:\n",
        "    print(\"Its not a triangle\")\n",
        "  \n",
        "\n",
        "is_triangle(30,50,90)"
      ],
      "metadata": {
        "colab": {
          "base_uri": "https://localhost:8080/"
        },
        "id": "yMl6b4fAHwXW",
        "outputId": "ad057d0a-17eb-42a4-d486-483b280e0cd7"
      },
      "execution_count": null,
      "outputs": [
        {
          "output_type": "stream",
          "name": "stdout",
          "text": [
            "Its not a triangle\n"
          ]
        }
      ]
    },
    {
      "cell_type": "markdown",
      "source": [
        "10. Write a program that will take user input of cost price and selling\n",
        "price and determines whether its a loss or a profit"
      ],
      "metadata": {
        "id": "Qd85WOoQNfJo"
      }
    },
    {
      "cell_type": "code",
      "source": [
        "SP = int(input(\"Enter the selling price: \"))\n",
        "CP = int(input(\"Enter the cost price: \"))\n",
        "P = SP - CP\n",
        "if P > 0:\n",
        "  print(\"Its a Profit of\",P)\n",
        "else:\n",
        "  print(\"Its a Loss of\",P)"
      ],
      "metadata": {
        "colab": {
          "base_uri": "https://localhost:8080/"
        },
        "id": "ufhBhc2bHwS8",
        "outputId": "2c7c2540-44e4-436b-d93c-20effef7d6b4"
      },
      "execution_count": null,
      "outputs": [
        {
          "output_type": "stream",
          "name": "stdout",
          "text": [
            "Enter the selling price: 150\n",
            "Enter the cost price: 100\n",
            "Its a Profit of 50\n"
          ]
        }
      ]
    },
    {
      "cell_type": "code",
      "source": [],
      "metadata": {
        "id": "5mAdFpqLHwP7"
      },
      "execution_count": null,
      "outputs": []
    }
  ],
  "metadata": {
    "colab": {
      "provenance": []
    },
    "kernelspec": {
      "display_name": "Python 3",
      "name": "python3"
    },
    "language_info": {
      "name": "python"
    }
  },
  "nbformat": 4,
  "nbformat_minor": 0
}