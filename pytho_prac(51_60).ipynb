{
  "nbformat": 4,
  "nbformat_minor": 0,
  "metadata": {
    "colab": {
      "provenance": []
    },
    "kernelspec": {
      "name": "python3",
      "display_name": "Python 3"
    },
    "language_info": {
      "name": "python"
    }
  },
  "cells": [
    {
      "cell_type": "markdown",
      "source": [
        "51. Find the length of a given string without using the len() function.\n"
      ],
      "metadata": {
        "id": "Czrife_5DREO"
      }
    },
    {
      "cell_type": "code",
      "execution_count": null,
      "metadata": {
        "colab": {
          "base_uri": "https://localhost:8080/"
        },
        "id": "nlAzgWJ-DES5",
        "outputId": "a328761b-a85b-49c7-841b-4160a272f345"
      },
      "outputs": [
        {
          "output_type": "stream",
          "name": "stdout",
          "text": [
            "Enter the text: elephant\n",
            "Length of elephant is 8\n"
          ]
        }
      ],
      "source": [
        "string = input(\"Enter the text: \")\n",
        "\n",
        "len = 0\n",
        "for i in string:\n",
        "  len += 1\n",
        "print(\"Length of\",string,\"is\",len)"
      ]
    },
    {
      "cell_type": "markdown",
      "source": [
        "52.Extract username from a given email.\n",
        "Eg if the email is nitish24singh@gmail.com then the username\n",
        "should be nitish24singh\n"
      ],
      "metadata": {
        "id": "50FUSooBEbHM"
      }
    },
    {
      "cell_type": "code",
      "source": [
        "email = input(\"Enter your email id: \")\n",
        "\n",
        "username = email.split(\"@\")[0]\n",
        "print(\"Username: \",username)"
      ],
      "metadata": {
        "colab": {
          "base_uri": "https://localhost:8080/"
        },
        "id": "fAYWA0NUEK-q",
        "outputId": "c4350d6c-698f-49b2-d0a0-86319337024e"
      },
      "execution_count": null,
      "outputs": [
        {
          "output_type": "stream",
          "name": "stdout",
          "text": [
            "Enter your email id: nitish24singh@gmail.com \n",
            "Username:  nitish24singh\n"
          ]
        }
      ]
    },
    {
      "cell_type": "markdown",
      "source": [
        "53.Count the frequency of a particular character in a provided string. Eg\n",
        "'hello how are you' is the string, the frequency of h in this string is 2."
      ],
      "metadata": {
        "id": "ZcDfRp3FE5tU"
      }
    },
    {
      "cell_type": "code",
      "source": [
        "def frequency_counter(text,letter):\n",
        "  count = 0\n",
        "  for i in text:\n",
        "    if letter in i:\n",
        "      count += 1\n",
        "  return count\n",
        "\n",
        "\n",
        "frequency_counter(\"hello how are you\",'o')"
      ],
      "metadata": {
        "colab": {
          "base_uri": "https://localhost:8080/"
        },
        "id": "PSrLlRxzEzqj",
        "outputId": "db133451-4369-423d-9170-a68ef44b89b2"
      },
      "execution_count": null,
      "outputs": [
        {
          "output_type": "execute_result",
          "data": {
            "text/plain": [
              "3"
            ]
          },
          "metadata": {},
          "execution_count": 10
        }
      ]
    },
    {
      "cell_type": "markdown",
      "source": [
        "54.Find the index position of a particular character in another string."
      ],
      "metadata": {
        "id": "oEXNAQN0F_YM"
      }
    },
    {
      "cell_type": "code",
      "source": [
        "def index_pos(text1,text2,char):\n",
        "  if char in text1:\n",
        "      if char in text2:\n",
        "        print(text2.index(char))\n",
        "      else:\n",
        "        print(\"character not in text 2.\")\n",
        "  else:\n",
        "        print(\"character not in text 1.\")\n",
        "\n",
        "index_pos('hello how are you','happy home','l')"
      ],
      "metadata": {
        "colab": {
          "base_uri": "https://localhost:8080/"
        },
        "id": "TvC-Ygv-FaDX",
        "outputId": "a9d3ada8-f56a-4fe4-97fd-410dc7682806"
      },
      "execution_count": null,
      "outputs": [
        {
          "output_type": "stream",
          "name": "stdout",
          "text": [
            "character not in text 2.\n"
          ]
        }
      ]
    },
    {
      "cell_type": "markdown",
      "source": [
        "55.Count the number of vowels in a string provided by the user"
      ],
      "metadata": {
        "id": "aJ6taeX2Hw0F"
      }
    },
    {
      "cell_type": "code",
      "source": [
        "def find_vowel(text):\n",
        "  vowels = ['a','e','i','o','u']\n",
        "  count = 0\n",
        "  for i in text.lower():\n",
        "    if i in vowels:\n",
        "      count += 1\n",
        "  if count == 0:\n",
        "    print(\"no vowels involved.\")\n",
        "  else:\n",
        "    print(count)\n",
        "\n",
        "find_vowel('aweioswu')"
      ],
      "metadata": {
        "colab": {
          "base_uri": "https://localhost:8080/"
        },
        "id": "Yb_OukaEGUL7",
        "outputId": "c84a9b1e-710d-4603-92c2-f97a4c600ee3"
      },
      "execution_count": null,
      "outputs": [
        {
          "output_type": "stream",
          "name": "stdout",
          "text": [
            "5\n"
          ]
        }
      ]
    },
    {
      "cell_type": "markdown",
      "source": [
        "56.Write a program which can remove a particular character from a string."
      ],
      "metadata": {
        "id": "va4vyxi6KLI7"
      }
    },
    {
      "cell_type": "code",
      "source": [
        "def remove_char(text,char):\n",
        "\n",
        "  for i in text.lower():\n",
        "    if char.lower() in i:\n",
        "      new_str = text.replace(char,\"\")\n",
        "  return new_str\n",
        "\n",
        "remove_char(\"happy\",'y')"
      ],
      "metadata": {
        "colab": {
          "base_uri": "https://localhost:8080/",
          "height": 35
        },
        "id": "MfmJAq5rItFz",
        "outputId": "0176f340-960d-4c71-d609-fb4dc5764dcf"
      },
      "execution_count": null,
      "outputs": [
        {
          "output_type": "execute_result",
          "data": {
            "text/plain": [
              "'happ'"
            ],
            "application/vnd.google.colaboratory.intrinsic+json": {
              "type": "string"
            }
          },
          "metadata": {},
          "execution_count": 47
        }
      ]
    },
    {
      "cell_type": "markdown",
      "source": [
        "57.Write a program that can check whether a given string is palindrome or\n",
        "not."
      ],
      "metadata": {
        "id": "iIEdG8HtL6fE"
      }
    },
    {
      "cell_type": "code",
      "source": [
        "text = input(\"Enter the text: \")\n",
        "def pallindrome(text):\n",
        "  rev = text[::-1]\n",
        "  if rev == text:\n",
        "    print(\"Its a pallindrome.\")\n",
        "  else:\n",
        "    print(\"Not a pallindrome.\")\n",
        "\n",
        "pallindrome(text)"
      ],
      "metadata": {
        "colab": {
          "base_uri": "https://localhost:8080/"
        },
        "id": "4r0lC90MLiyV",
        "outputId": "75239cfd-bc0a-422a-c5b8-e4b237cd3326"
      },
      "execution_count": null,
      "outputs": [
        {
          "output_type": "stream",
          "name": "stdout",
          "text": [
            "Enter the text: racecar\n",
            "Its a pallindrome.\n"
          ]
        }
      ]
    },
    {
      "cell_type": "markdown",
      "source": [
        "58.Write a python program to remove all the duplicates from a list\n"
      ],
      "metadata": {
        "id": "rSqUQ7KfMo-C"
      }
    },
    {
      "cell_type": "code",
      "source": [
        "list1 = list(input(\"Enter the elements in the list: \"))\n",
        "\n",
        "def remove_duplicates(list1):\n",
        "  for i in list1:\n",
        "    if list1.count(i) > 1:\n",
        "      for j in range(list1.count(i)-1):\n",
        "        list1.remove(i)\n",
        "  return list1\n",
        "\n",
        "remove_duplicates(list1)"
      ],
      "metadata": {
        "colab": {
          "base_uri": "https://localhost:8080/"
        },
        "id": "VRLX1LZbMb4G",
        "outputId": "773f871f-f86d-43b3-a8e9-2750237a3ea9"
      },
      "execution_count": null,
      "outputs": [
        {
          "name": "stdout",
          "output_type": "stream",
          "text": [
            "Enter the elements in the list: haaappppyyyyy\n"
          ]
        },
        {
          "output_type": "execute_result",
          "data": {
            "text/plain": [
              "['h', 'a', 'p', 'y']"
            ]
          },
          "metadata": {},
          "execution_count": 79
        }
      ]
    },
    {
      "cell_type": "markdown",
      "source": [
        "59.Write a python program to convert a string to title case without using\n",
        "the title()\n",
        "\n"
      ],
      "metadata": {
        "id": "xV0ZT1QiQEJo"
      }
    },
    {
      "cell_type": "code",
      "source": [
        "text = input(\"Enter your text: \")\n",
        "\n",
        "def title_case(text):\n",
        "    for i in text.split(\" \"):\n",
        "      j = i.capitalize()\n",
        "      print(j,end=\" \")\n",
        "\n",
        "title_case(text)"
      ],
      "metadata": {
        "colab": {
          "base_uri": "https://localhost:8080/"
        },
        "id": "s4b5uL5XPanB",
        "outputId": "6ef9e271-83c5-4e41-aac9-7883f696077a"
      },
      "execution_count": null,
      "outputs": [
        {
          "output_type": "stream",
          "name": "stdout",
          "text": [
            "Enter your text: the super man\n",
            "The Super Man "
          ]
        }
      ]
    },
    {
      "cell_type": "markdown",
      "source": [
        "60.Write a python program to find the max item from a list without using\n",
        "the max function\n",
        "\n"
      ],
      "metadata": {
        "id": "MXvg5Va3SQW-"
      }
    },
    {
      "cell_type": "code",
      "source": [
        "list1 = list(input(\"enter the elements: \"))\n",
        "def max_element(list1):\n",
        "  list1.sort()\n",
        "  return list1[-1]\n",
        "\n",
        "max_element(list1)"
      ],
      "metadata": {
        "colab": {
          "base_uri": "https://localhost:8080/",
          "height": 53
        },
        "id": "oUJ5vdI4RYsu",
        "outputId": "3c5a811c-6042-493a-95df-98cad73167cd"
      },
      "execution_count": null,
      "outputs": [
        {
          "name": "stdout",
          "output_type": "stream",
          "text": [
            "enter the elements: 4586695\n"
          ]
        },
        {
          "output_type": "execute_result",
          "data": {
            "text/plain": [
              "'9'"
            ],
            "application/vnd.google.colaboratory.intrinsic+json": {
              "type": "string"
            }
          },
          "metadata": {},
          "execution_count": 104
        }
      ]
    },
    {
      "cell_type": "code",
      "source": [],
      "metadata": {
        "id": "kD1sO5epSgY0"
      },
      "execution_count": null,
      "outputs": []
    }
  ]
}