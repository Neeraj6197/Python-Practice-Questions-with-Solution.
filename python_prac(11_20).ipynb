{
  "nbformat": 4,
  "nbformat_minor": 0,
  "metadata": {
    "colab": {
      "provenance": []
    },
    "kernelspec": {
      "name": "python3",
      "display_name": "Python 3"
    },
    "language_info": {
      "name": "python"
    }
  },
  "cells": [
    {
      "cell_type": "markdown",
      "source": [
        "11. Write a program to find the simple interest when the value of\n",
        "principle,rate of interest and time period is given."
      ],
      "metadata": {
        "id": "93xBnrQtXok7"
      }
    },
    {
      "cell_type": "code",
      "execution_count": null,
      "metadata": {
        "colab": {
          "base_uri": "https://localhost:8080/"
        },
        "id": "XH7FTTn6XbmG",
        "outputId": "ce9cfd0a-4422-4455-d769-6d2a742733e1"
      },
      "outputs": [
        {
          "output_type": "stream",
          "name": "stdout",
          "text": [
            "Enter the principle amount: 1000\n",
            "Enter the rate of interest: 5\n",
            "Enter the duration in years: 2\n",
            "Simple Interest= 100.0\n"
          ]
        }
      ],
      "source": [
        "P = int(input(\"Enter the principle amount: \"))\n",
        "R = int(input(\"Enter the rate of interest: \"))\n",
        "T = int(input(\"Enter the duration in years: \"))\n",
        "\n",
        "SI = (P*R*T)/100\n",
        "print(\"Simple Interest=\",SI)"
      ]
    },
    {
      "cell_type": "markdown",
      "source": [
        "12. Write a program to find the volume of the cylinder. Also find the\n",
        "cost when ,when the cost of 1litre milk is 40Rs."
      ],
      "metadata": {
        "id": "mBJKCtxPYipL"
      }
    },
    {
      "cell_type": "code",
      "source": [
        "def vol_cyl(r,h):\n",
        "  vol = 3.14*(r**2)*h\n",
        "  cost = vol*40\n",
        "  print(\"volume =\",vol)\n",
        "  print(\"Cost=\",cost)\n",
        "\n",
        "vol_cyl(1,2)"
      ],
      "metadata": {
        "colab": {
          "base_uri": "https://localhost:8080/"
        },
        "id": "gO6aTud9YINE",
        "outputId": "bb54595a-9db9-44b6-c61b-2479cb4e8a04"
      },
      "execution_count": null,
      "outputs": [
        {
          "output_type": "stream",
          "name": "stdout",
          "text": [
            "volume = 6.28\n",
            "Cost= 251.20000000000002\n"
          ]
        }
      ]
    },
    {
      "cell_type": "markdown",
      "source": [
        "13. Write a program that will tell whether the given number is divisible\n",
        "by 3 & 6."
      ],
      "metadata": {
        "id": "e_5naxAXaRwJ"
      }
    },
    {
      "cell_type": "code",
      "source": [
        "def div_3_6(num):\n",
        "  if num>0:\n",
        "    if (num % 3==0) & (num%6==0):\n",
        "      print(num,\"is divisible by 3 & 6\")\n",
        "    else:\n",
        "      print(num,\"is not divisible by 3 & 6\")\n",
        "  else:\n",
        "    print(\"Invalid number!\")\n",
        "\n",
        "div_3_6(12)"
      ],
      "metadata": {
        "colab": {
          "base_uri": "https://localhost:8080/"
        },
        "id": "0_xVl95cY_Sp",
        "outputId": "c136be81-6d7a-447f-8747-1e9e1e37ebde"
      },
      "execution_count": null,
      "outputs": [
        {
          "output_type": "stream",
          "name": "stdout",
          "text": [
            "12 is divisible by 3 & 6\n"
          ]
        }
      ]
    },
    {
      "cell_type": "markdown",
      "source": [
        "14.Calculate the angle between the hour hand and minute hand."
      ],
      "metadata": {
        "id": "XEXm6mFQbKKt"
      }
    },
    {
      "cell_type": "code",
      "source": [
        "def angle_hr_min(h,m):\n",
        "  if (h < 13) & (m < 60):\n",
        "    angle1 = abs((180-(h*30))-(180-(m*6))+360)\n",
        "    angle2 = abs((180-(m*6))-(180-(h*30)))\n",
        "    print(min(angle1,angle2))\n",
        "  else:\n",
        "    print(\"Check the timings\")\n",
        "    \n",
        "\n",
        "angle_hr_min(2,45)"
      ],
      "metadata": {
        "colab": {
          "base_uri": "https://localhost:8080/"
        },
        "id": "Qlj5lIXZe8Ua",
        "outputId": "1184fc13-69a6-47b3-96d3-de2e8125a412"
      },
      "execution_count": null,
      "outputs": [
        {
          "output_type": "stream",
          "name": "stdout",
          "text": [
            "210\n"
          ]
        }
      ]
    },
    {
      "cell_type": "markdown",
      "source": [
        "16. Write a program that will determine weather when the value of\n",
        "temperature and humidity is provided by the user.\n",
        "TEMPERATURE(C) HUMIDITY(%) WEATHER\n",
        " - .>=30 >=90 Hot and Humid\n",
        " - .>=30 < 90 Hot\n",
        " - < 30 >= 90 Cool and Humid\n",
        " - < 30 <90 Cool\n"
      ],
      "metadata": {
        "id": "J-t6WMJBgyH6"
      }
    },
    {
      "cell_type": "code",
      "source": [
        "def weather(t,h):\n",
        "  if (t>=30) & (h>=90):\n",
        "    print(\"Hot and Humid\")\n",
        "  elif (t>=30) & (h<90):\n",
        "    print(\"Hot\")\n",
        "  elif (t<30) & (h>=90):\n",
        "    print(\"Cool and Humid\")\n",
        "  else:\n",
        "    print(\"Cool\")\n",
        "\n",
        "weather(55,105)"
      ],
      "metadata": {
        "colab": {
          "base_uri": "https://localhost:8080/"
        },
        "id": "DDU2_117hWWg",
        "outputId": "b146880e-2e90-46da-c2b5-060b0b2d720c"
      },
      "execution_count": null,
      "outputs": [
        {
          "output_type": "stream",
          "name": "stdout",
          "text": [
            "Hot and Humid\n"
          ]
        }
      ]
    },
    {
      "cell_type": "markdown",
      "source": [
        "17. Write a program that will take three digits from the user and add\n",
        "the square of each digit."
      ],
      "metadata": {
        "id": "ZdEPwb5hmBeA"
      }
    },
    {
      "cell_type": "code",
      "source": [
        "def digit_square(num):\n",
        "  num = str(num)\n",
        "  L=[]\n",
        "  for i in range(len(num)):\n",
        "    L.append(int(num[i])**2)\n",
        "  total = sum(L)\n",
        "  print(\"sqaured sum of\",num,\"is\",total)\n",
        "\n",
        "digit_square(4322)"
      ],
      "metadata": {
        "colab": {
          "base_uri": "https://localhost:8080/"
        },
        "id": "5DENIbMVhWQB",
        "outputId": "a96eba27-3c3c-4550-cf68-78a23096ac77"
      },
      "execution_count": null,
      "outputs": [
        {
          "output_type": "stream",
          "name": "stdout",
          "text": [
            "sqaured sum of 4322 is 33\n"
          ]
        }
      ]
    },
    {
      "cell_type": "markdown",
      "source": [
        "18. Write a program that will check whether the number is armstrong\n",
        "number or not."
      ],
      "metadata": {
        "id": "mEOB3pC1oDM0"
      }
    },
    {
      "cell_type": "code",
      "source": [
        "def armstrong(num):\n",
        "  actual = num\n",
        "  num = str(num)\n",
        "  L = []\n",
        "  for i in range(len(num)):\n",
        "    L.append(int(num[i])**(len(num)))\n",
        "  total = sum(L)\n",
        "  if total == actual:\n",
        "    print(actual,\"is an Armstong Number\")\n",
        "  else:\n",
        "    print(actual,\"is not an Armstong Number\")\n",
        "\n",
        "armstrong(1125)"
      ],
      "metadata": {
        "colab": {
          "base_uri": "https://localhost:8080/"
        },
        "id": "nTmpFRe2nmnm",
        "outputId": "51e93ee9-0814-4f6d-f2fe-1b0b787e96e8"
      },
      "execution_count": null,
      "outputs": [
        {
          "output_type": "stream",
          "name": "stdout",
          "text": [
            "1125 is not an Armstong Number\n"
          ]
        }
      ]
    },
    {
      "cell_type": "markdown",
      "source": [
        "19. Write a program that will take user input of (4 digits number) and\n",
        "check whether the number is narcissist number or not."
      ],
      "metadata": {
        "id": "_Fpu1ly2ptvm"
      }
    },
    {
      "cell_type": "code",
      "source": [
        "def narcissist(num):\n",
        "  actual = num\n",
        "  num = str(num)\n",
        "  L = []\n",
        "  for i in range(len(num)):\n",
        "    L.append(int(num[i])**len(num))\n",
        "  total = sum(L)\n",
        "  if total == actual:\n",
        "    print(actual,\"is a narcissist number\")\n",
        "  else:\n",
        "    print(actual,\"is not a narcissist number\")\n",
        "\n",
        "narcissist(1125)"
      ],
      "metadata": {
        "colab": {
          "base_uri": "https://localhost:8080/"
        },
        "id": "aqXzy8O-phNW",
        "outputId": "c5f0fea4-0179-4a2b-adf5-89ebaffbd4a2"
      },
      "execution_count": null,
      "outputs": [
        {
          "output_type": "stream",
          "name": "stdout",
          "text": [
            "1125 is not a narcissist number\n"
          ]
        }
      ]
    },
    {
      "cell_type": "markdown",
      "source": [
        "20. Write a program that will give you the in hand salary after\n",
        "deduction of HRA(10%),DA(5%),PF(3%), and tax(if salary is between\n",
        "5-10 lakh–10%),(11-20lakh–20%),(20< _ – 30%)(0-1lakh print k)."
      ],
      "metadata": {
        "id": "fSfSzN3KrXsV"
      }
    },
    {
      "cell_type": "code",
      "source": [
        "def in_hand(salary):\n",
        "  if salary>100000:\n",
        "    HRA = salary*0.1\n",
        "    DA = salary*0.05\n",
        "    PF = salary*0.03\n",
        "    sal_in_hand = salary - HRA - DA - PF\n",
        "    if (salary >= 500000) & (salary <= 1000000):\n",
        "      sal_in_hand = sal_in_hand - (salary*0.1)\n",
        "      print(\"salary in hand: \",sal_in_hand)\n",
        "    elif (salary > 1000000) & (salary <= 2000000):\n",
        "      sal_in_hand = sal_in_hand - (salary*0.2)\n",
        "      print(\"salary in hand: \",sal_in_hand)\n",
        "    elif (salary > 2000000):\n",
        "      sal_in_hand = sal_in_hand - (salary*0.3)\n",
        "      print(\"salary in hand: \",sal_in_hand)\n",
        "    else:\n",
        "      print(\"salary in hand: \",sal_in_hand)\n",
        "  else:\n",
        "    print(\"salary: \",salary//1000,\"k\")\n",
        "\n",
        "in_hand(2500000)"
      ],
      "metadata": {
        "colab": {
          "base_uri": "https://localhost:8080/"
        },
        "id": "8REswgGSrTWn",
        "outputId": "f2281f71-0849-4b7d-986c-92184e6c546f"
      },
      "execution_count": null,
      "outputs": [
        {
          "output_type": "stream",
          "name": "stdout",
          "text": [
            "salary in hand:  1300000.0\n"
          ]
        }
      ]
    },
    {
      "cell_type": "code",
      "source": [],
      "metadata": {
        "id": "g0yMN6lxuCoF"
      },
      "execution_count": null,
      "outputs": []
    },
    {
      "cell_type": "code",
      "source": [],
      "metadata": {
        "id": "i5SGjaNhumUU"
      },
      "execution_count": null,
      "outputs": []
    }
  ]
}