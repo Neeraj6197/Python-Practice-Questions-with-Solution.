{
  "nbformat": 4,
  "nbformat_minor": 0,
  "metadata": {
    "colab": {
      "provenance": []
    },
    "kernelspec": {
      "name": "python3",
      "display_name": "Python 3"
    },
    "language_info": {
      "name": "python"
    }
  },
  "cells": [
    {
      "cell_type": "markdown",
      "source": [
        "21. Write a menu driven program\n",
        " - 1.cm to ft\n",
        " - 2.kl to miles\n",
        " - 3.usd to inr\n",
        " - 4.exit"
      ],
      "metadata": {
        "id": "rDAddRm-awOC"
      }
    },
    {
      "cell_type": "code",
      "execution_count": null,
      "metadata": {
        "colab": {
          "base_uri": "https://localhost:8080/"
        },
        "id": "huy4XMIKafiy",
        "outputId": "68d79e5a-3a10-46ad-c38e-7a69e373c233"
      },
      "outputs": [
        {
          "output_type": "stream",
          "name": "stdout",
          "text": [
            "Select an option from the menu:\n",
            "                  1.cm to ft\n",
            "                  2.kl to miles\n",
            "                  3.usd to inr\n",
            "                  4.exit: 3\n",
            "Enter the amount in USD: 3\n",
            "3 USD= 248.07 INR\n"
          ]
        }
      ],
      "source": [
        "user_input = int(input('''Select an option from the menu:\n",
        "                  1.cm to ft\n",
        "                  2.kl to miles\n",
        "                  3.usd to inr\n",
        "                  4.exit: '''))\n",
        "\n",
        "\n",
        "def conversion(user_input=user_input):\n",
        "  if user_input == 1:\n",
        "    cm = int(input(\"Enter the value in cms: \"))\n",
        "    ft = (cm/30.48)\n",
        "    print(cm,\"cms =\",ft,\"ft\")\n",
        "\n",
        "  elif user_input == 2:\n",
        "    km = int(input(\"Enter the distance in kms: \"))\n",
        "    mile = 0.6214*km\n",
        "    print(km,\"kms =\",mile,\"miles\")\n",
        "\n",
        "  elif user_input == 3:\n",
        "    usd = int(input(\"Enter the amount in USD: \"))\n",
        "    inr = usd*82.69\n",
        "    print(usd,\"USD=\",inr,\"INR\")\n",
        "\n",
        "  else:\n",
        "    print(\"Thank you!\")\n",
        "\n",
        "conversion()"
      ]
    },
    {
      "cell_type": "markdown",
      "source": [
        "22.Write a program that will tell the number of dogs and chicken are\n",
        "there when the user will provide the value of total heads and legs."
      ],
      "metadata": {
        "id": "lTiufIcCi97T"
      }
    },
    {
      "cell_type": "code",
      "source": [
        "noh = int(input(\"Enter the total number of heads: \"))\n",
        "nol = int(input(\"Enter the total number of legs: \"))\n",
        "\n",
        "dogs = 0\n",
        "chicken = 0\n",
        "\n",
        "for i in range(noh):\n",
        "  nol = nol\n",
        "  noh = noh\n",
        "  if nol // noh == 4:\n",
        "    dogs+=1\n",
        "    nol = nol-4\n",
        "    noh = noh-1\n",
        "  else:\n",
        "    chicken += 1\n",
        "    nol=nol-2\n",
        "    noh = noh-1\n",
        "print(dogs,\"dogs\")\n",
        "print(chicken,\"chickens\")\n"
      ],
      "metadata": {
        "colab": {
          "base_uri": "https://localhost:8080/"
        },
        "id": "LaZ6fsLcc98R",
        "outputId": "24b9c36f-6746-48f8-ee41-9e0bdcebdfb9"
      },
      "execution_count": null,
      "outputs": [
        {
          "output_type": "stream",
          "name": "stdout",
          "text": [
            "Enter the total number of heads: 6\n",
            "Enter the total number of legs: 12\n",
            "0 dogs\n",
            "6 chickens\n"
          ]
        }
      ]
    },
    {
      "cell_type": "markdown",
      "source": [
        "23.Write a program that will swap numbers"
      ],
      "metadata": {
        "id": "Y13IA4zIjDTH"
      }
    },
    {
      "cell_type": "code",
      "source": [
        "def swap(num1,num2):\n",
        "  n = num1\n",
        "  num1 = num2\n",
        "  num2 = n\n",
        "  print(\"before swap:\",n,num1)\n",
        "  print(\"after swap: \",num1,num2)\n",
        "\n",
        "swap(2,5)"
      ],
      "metadata": {
        "colab": {
          "base_uri": "https://localhost:8080/"
        },
        "id": "-I2YbM0Lc_R5",
        "outputId": "23745f9d-d966-4ad5-bb0f-6194ad337454"
      },
      "execution_count": null,
      "outputs": [
        {
          "output_type": "stream",
          "name": "stdout",
          "text": [
            "before swap: 2 5\n",
            "after swap:  5 2\n"
          ]
        }
      ]
    },
    {
      "cell_type": "markdown",
      "source": [
        "24.Write a program to find the sum of first n numbers, where n will be\n",
        "provided by the user. Eg if the user provides n=10 the output should be\n",
        "55."
      ],
      "metadata": {
        "id": "vA1prcUHoXge"
      }
    },
    {
      "cell_type": "code",
      "source": [
        "def sum_n(n):\n",
        "  num = 0\n",
        "  for i in range(n+1):\n",
        "    num = i+num\n",
        "  print(num)\n",
        "\n",
        "sum_n(15)"
      ],
      "metadata": {
        "colab": {
          "base_uri": "https://localhost:8080/"
        },
        "id": "b1wJAN8RofKc",
        "outputId": "d9ceba94-65df-45a1-f66b-d3e0360f57d8"
      },
      "execution_count": null,
      "outputs": [
        {
          "output_type": "stream",
          "name": "stdout",
          "text": [
            "120\n"
          ]
        }
      ]
    },
    {
      "cell_type": "markdown",
      "source": [
        "25.Write a program that can multiply 2 numbers provided by the user\n",
        "without using the * operator"
      ],
      "metadata": {
        "id": "fYoHM9C7o9-z"
      }
    },
    {
      "cell_type": "code",
      "source": [
        "def multi(a,b):\n",
        "  c = 0\n",
        "  for i in range(b):\n",
        "    c = a+c\n",
        "  print(a,\"x\",b,\"=\",c)\n",
        "\n",
        "multi(9,5)"
      ],
      "metadata": {
        "colab": {
          "base_uri": "https://localhost:8080/"
        },
        "id": "0klX128EozWG",
        "outputId": "944fe5b6-6195-4219-bab9-a29742ed2cad"
      },
      "execution_count": null,
      "outputs": [
        {
          "output_type": "stream",
          "name": "stdout",
          "text": [
            "9 x 5 = 45\n"
          ]
        }
      ]
    },
    {
      "cell_type": "markdown",
      "source": [
        "26.Write a program that can find the factorial of a given number provided\n",
        "by the user"
      ],
      "metadata": {
        "id": "qVg9tYlHqRlQ"
      }
    },
    {
      "cell_type": "code",
      "source": [
        "def factorial(num):\n",
        "  fact = 1\n",
        "  for i in range(1,num+1):\n",
        "    fact = i*fact\n",
        "  print(fact)\n",
        "\n",
        "factorial(7) "
      ],
      "metadata": {
        "colab": {
          "base_uri": "https://localhost:8080/"
        },
        "id": "N6ostfslp_t-",
        "outputId": "97230160-ed12-4d15-dc0f-2b82942f2327"
      },
      "execution_count": null,
      "outputs": [
        {
          "output_type": "stream",
          "name": "stdout",
          "text": [
            "5040\n"
          ]
        }
      ]
    },
    {
      "cell_type": "markdown",
      "source": [
        "27. Write a program to print the first 25 odd numbers"
      ],
      "metadata": {
        "id": "AzvDEmsZrX3o"
      }
    },
    {
      "cell_type": "code",
      "source": [
        "def odd(n):\n",
        "  L = []\n",
        "  for i in range(n*2):\n",
        "    if i % 2 != 0:\n",
        "      L.append(i)\n",
        "    else:\n",
        "      continue\n",
        "  print(\"First\",len(L),\"odd numbers:\")\n",
        "  print(L)\n",
        "  \n",
        "\n",
        "odd(25)"
      ],
      "metadata": {
        "colab": {
          "base_uri": "https://localhost:8080/"
        },
        "id": "hfIhLdsvqvw6",
        "outputId": "b21667cc-e8ba-4993-f47a-7b67aca972f5"
      },
      "execution_count": null,
      "outputs": [
        {
          "output_type": "stream",
          "name": "stdout",
          "text": [
            "First 25 odd numbers:\n",
            "[1, 3, 5, 7, 9, 11, 13, 15, 17, 19, 21, 23, 25, 27, 29, 31, 33, 35, 37, 39, 41, 43, 45, 47, 49]\n"
          ]
        }
      ]
    },
    {
      "cell_type": "markdown",
      "source": [
        "28.Write a program to print whether a given number is prime number or\n",
        "not"
      ],
      "metadata": {
        "id": "am-GRkepsYxj"
      }
    },
    {
      "cell_type": "code",
      "source": [
        "def prime(n):\n",
        "  for i in range(2,n):\n",
        "    if n % i == 0:\n",
        "      print(n,\"is not a prime number\")\n",
        "      break\n",
        "  else:\n",
        "    print(n,\"is a prime number\")\n",
        "    \n",
        "prime(13)"
      ],
      "metadata": {
        "colab": {
          "base_uri": "https://localhost:8080/"
        },
        "id": "YBOkL1BSqxll",
        "outputId": "8dc64dd9-830f-4020-c791-c6ea3ce4a427"
      },
      "execution_count": null,
      "outputs": [
        {
          "output_type": "stream",
          "name": "stdout",
          "text": [
            "13 is a prime number\n"
          ]
        }
      ]
    },
    {
      "cell_type": "markdown",
      "source": [
        "29.Print all the armstrong numbers in the range of 100 to 1000"
      ],
      "metadata": {
        "id": "mtj-U1VbueRw"
      }
    },
    {
      "cell_type": "code",
      "source": [
        "arm = []\n",
        "for i in range(100,1001):\n",
        "  num = str(i)\n",
        "  L = []\n",
        "  for j in num:\n",
        "    L.append(int(j)**len(num))\n",
        "  total = sum(L)\n",
        "  if i == total:\n",
        "    arm.append(i)\n",
        "  else:\n",
        "    continue\n",
        "print(arm)\n"
      ],
      "metadata": {
        "colab": {
          "base_uri": "https://localhost:8080/"
        },
        "id": "4zRPVyG4s3a5",
        "outputId": "0f3b093a-70b6-4456-923f-40400457465d"
      },
      "execution_count": null,
      "outputs": [
        {
          "output_type": "stream",
          "name": "stdout",
          "text": [
            "[153, 370, 371, 407]\n"
          ]
        }
      ]
    },
    {
      "cell_type": "markdown",
      "source": [
        "30.The current population of a town is 10000. The population of the town is\n",
        "increasing at the rate of 10% per year. You have to write a program to\n",
        "find out the population at the end of each of the last 10 years. For eg\n",
        "current population is 10000 so the output should be like this:\n",
        "10th year - 10000\n",
        "9th year - 9000\n",
        "8th year - 8100 and so on"
      ],
      "metadata": {
        "id": "wte-t6wiwj_W"
      }
    },
    {
      "cell_type": "code",
      "source": [
        "def population(num_of_years,current_pop):\n",
        "  pop = current_pop\n",
        "  print(\"year\",num_of_years,\"population: \",pop)\n",
        "  for i in range(num_of_years-1,0,-1):\n",
        "    pop = int(pop-(pop*0.10))\n",
        "    print(\"year\",i,\"population: \",pop)\n",
        "\n",
        "population(10,10000)"
      ],
      "metadata": {
        "colab": {
          "base_uri": "https://localhost:8080/"
        },
        "id": "Mky3XODmtQI1",
        "outputId": "caa7501c-ef56-47f4-eefc-f91ea32cd1d6"
      },
      "execution_count": null,
      "outputs": [
        {
          "output_type": "stream",
          "name": "stdout",
          "text": [
            "year 10 population:  10000\n",
            "year 9 population:  9000\n",
            "year 8 population:  8100\n",
            "year 7 population:  7290\n",
            "year 6 population:  6561\n",
            "year 5 population:  5904\n",
            "year 4 population:  5313\n",
            "year 3 population:  4781\n",
            "year 2 population:  4302\n",
            "year 1 population:  3871\n"
          ]
        }
      ]
    },
    {
      "cell_type": "code",
      "source": [],
      "metadata": {
        "id": "YJiL8ePrwYcW"
      },
      "execution_count": null,
      "outputs": []
    }
  ]
}