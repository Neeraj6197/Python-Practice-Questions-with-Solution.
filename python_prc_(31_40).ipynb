{
  "nbformat": 4,
  "nbformat_minor": 0,
  "metadata": {
    "colab": {
      "provenance": []
    },
    "kernelspec": {
      "name": "python3",
      "display_name": "Python 3"
    },
    "language_info": {
      "name": "python"
    }
  },
  "cells": [
    {
      "cell_type": "markdown",
      "source": [
        "31. Write a program to print all the unique combinations of 1,2,3 and 4"
      ],
      "metadata": {
        "id": "xFi1uGwqf3tk"
      }
    },
    {
      "cell_type": "code",
      "source": [
        "for i in range(1,5):\n",
        "  for j in range(1,5):\n",
        "    for k in range(1,5):\n",
        "      for l in range(1,5):\n",
        "        if i != j != k != l:\n",
        "          print(i,j,k,l)"
      ],
      "metadata": {
        "colab": {
          "base_uri": "https://localhost:8080/"
        },
        "id": "P9TulwK3h4kV",
        "outputId": "e760d9f5-6920-47a0-fff8-c16432bec6b5"
      },
      "execution_count": null,
      "outputs": [
        {
          "output_type": "stream",
          "name": "stdout",
          "text": [
            "1 2 1 2\n",
            "1 2 1 3\n",
            "1 2 1 4\n",
            "1 2 3 1\n",
            "1 2 3 2\n",
            "1 2 3 4\n",
            "1 2 4 1\n",
            "1 2 4 2\n",
            "1 2 4 3\n",
            "1 3 1 2\n",
            "1 3 1 3\n",
            "1 3 1 4\n",
            "1 3 2 1\n",
            "1 3 2 3\n",
            "1 3 2 4\n",
            "1 3 4 1\n",
            "1 3 4 2\n",
            "1 3 4 3\n",
            "1 4 1 2\n",
            "1 4 1 3\n",
            "1 4 1 4\n",
            "1 4 2 1\n",
            "1 4 2 3\n",
            "1 4 2 4\n",
            "1 4 3 1\n",
            "1 4 3 2\n",
            "1 4 3 4\n",
            "2 1 2 1\n",
            "2 1 2 3\n",
            "2 1 2 4\n",
            "2 1 3 1\n",
            "2 1 3 2\n",
            "2 1 3 4\n",
            "2 1 4 1\n",
            "2 1 4 2\n",
            "2 1 4 3\n",
            "2 3 1 2\n",
            "2 3 1 3\n",
            "2 3 1 4\n",
            "2 3 2 1\n",
            "2 3 2 3\n",
            "2 3 2 4\n",
            "2 3 4 1\n",
            "2 3 4 2\n",
            "2 3 4 3\n",
            "2 4 1 2\n",
            "2 4 1 3\n",
            "2 4 1 4\n",
            "2 4 2 1\n",
            "2 4 2 3\n",
            "2 4 2 4\n",
            "2 4 3 1\n",
            "2 4 3 2\n",
            "2 4 3 4\n",
            "3 1 2 1\n",
            "3 1 2 3\n",
            "3 1 2 4\n",
            "3 1 3 1\n",
            "3 1 3 2\n",
            "3 1 3 4\n",
            "3 1 4 1\n",
            "3 1 4 2\n",
            "3 1 4 3\n",
            "3 2 1 2\n",
            "3 2 1 3\n",
            "3 2 1 4\n",
            "3 2 3 1\n",
            "3 2 3 2\n",
            "3 2 3 4\n",
            "3 2 4 1\n",
            "3 2 4 2\n",
            "3 2 4 3\n",
            "3 4 1 2\n",
            "3 4 1 3\n",
            "3 4 1 4\n",
            "3 4 2 1\n",
            "3 4 2 3\n",
            "3 4 2 4\n",
            "3 4 3 1\n",
            "3 4 3 2\n",
            "3 4 3 4\n",
            "4 1 2 1\n",
            "4 1 2 3\n",
            "4 1 2 4\n",
            "4 1 3 1\n",
            "4 1 3 2\n",
            "4 1 3 4\n",
            "4 1 4 1\n",
            "4 1 4 2\n",
            "4 1 4 3\n",
            "4 2 1 2\n",
            "4 2 1 3\n",
            "4 2 1 4\n",
            "4 2 3 1\n",
            "4 2 3 2\n",
            "4 2 3 4\n",
            "4 2 4 1\n",
            "4 2 4 2\n",
            "4 2 4 3\n",
            "4 3 1 2\n",
            "4 3 1 3\n",
            "4 3 1 4\n",
            "4 3 2 1\n",
            "4 3 2 3\n",
            "4 3 2 4\n",
            "4 3 4 1\n",
            "4 3 4 2\n",
            "4 3 4 3\n"
          ]
        }
      ]
    },
    {
      "cell_type": "markdown",
      "source": [
        "32.User will provide 2 numbers you have to find the HCF of those 2\n",
        "numbers"
      ],
      "metadata": {
        "id": "Qod09fkUo0Mw"
      }
    },
    {
      "cell_type": "code",
      "source": [
        "def HCF(a,b):\n",
        "  L = []\n",
        "  K = []\n",
        "\n",
        "  for i in range(a,1,-1):\n",
        "    if a % i == 0:\n",
        "      L.append(a//i)\n",
        "\n",
        "  for i in range(b,1,-1):\n",
        "    if b % i == 0:\n",
        "      K.append(b//i)\n",
        "\n",
        "  com = [1]\n",
        "  for j in L:\n",
        "    if j in K:\n",
        "      com.append(j)\n",
        "  print(\"HCF is\",max(com)) \n",
        "\n",
        "\n",
        "HCF(30,45)"
      ],
      "metadata": {
        "colab": {
          "base_uri": "https://localhost:8080/"
        },
        "id": "agFEiiXslVAz",
        "outputId": "819f71b8-0509-4529-ecef-ffb638f5979d"
      },
      "execution_count": null,
      "outputs": [
        {
          "output_type": "stream",
          "name": "stdout",
          "text": [
            "HCF is 15\n"
          ]
        }
      ]
    },
    {
      "cell_type": "markdown",
      "source": [
        "33.User will provide 2 numbers you have to find the by LCM of those 2\n",
        "numbers"
      ],
      "metadata": {
        "id": "DptF2MuD0UCr"
      }
    },
    {
      "cell_type": "code",
      "source": [
        "def LCM(a,b):\n",
        "  L = []\n",
        "  K = []\n",
        "  for i in range(1,b+1):\n",
        "    L.append(a*i)\n",
        "  for j in range(1,a+1):\n",
        "    K.append(b*j)\n",
        "\n",
        "  com = []\n",
        "  for j in L:\n",
        "    if j in K:\n",
        "      com.append(j)\n",
        "\n",
        "  if len(com)>0:  \n",
        "    print(\"LCM is\",min(com))\n",
        "  else:\n",
        "    print(\"LCM is\",0)\n",
        "\n",
        "LCM(36,90)"
      ],
      "metadata": {
        "colab": {
          "base_uri": "https://localhost:8080/"
        },
        "id": "BSti4DOUqWrF",
        "outputId": "5dbb339a-d707-4f05-c8c5-1614f77ec329"
      },
      "execution_count": null,
      "outputs": [
        {
          "output_type": "stream",
          "name": "stdout",
          "text": [
            "LCM is 180\n"
          ]
        }
      ]
    },
    {
      "cell_type": "markdown",
      "source": [
        "34.Print first 25 prime numbers"
      ],
      "metadata": {
        "id": "FBnFTIa142ni"
      }
    },
    {
      "cell_type": "code",
      "source": [
        "def prime(n):\n",
        "  counter = 0\n",
        "  num = 2\n",
        "  L = []\n",
        "  while counter <= n:\n",
        "    for i in range(2,num):\n",
        "      if num % i == 0:\n",
        "        break\n",
        "    else:\n",
        "      L.append(num)\n",
        "      counter += 1\n",
        "    num += 1\n",
        "  print(L)\n",
        "\n",
        "prime(10) "
      ],
      "metadata": {
        "colab": {
          "base_uri": "https://localhost:8080/"
        },
        "id": "zjLhGmzU1QUW",
        "outputId": "d009af31-139d-4a0a-d2b8-6b034c00c8d8"
      },
      "execution_count": null,
      "outputs": [
        {
          "output_type": "stream",
          "name": "stdout",
          "text": [
            "[2, 3, 5, 7, 11, 13, 17, 19, 23, 29, 31]\n"
          ]
        }
      ]
    },
    {
      "cell_type": "markdown",
      "source": [
        "35.Print the first 20 numbers of a Fibonacci series\n"
      ],
      "metadata": {
        "id": "EWyj12Px99md"
      }
    },
    {
      "cell_type": "code",
      "source": [
        "def fibonacci(n):\n",
        "  count=0\n",
        "  num = 1\n",
        "  L = [0,1]\n",
        "  while count<=(n-3):\n",
        "    count+=1\n",
        "    num = L[-2] + L[-1]\n",
        "    L.append(num)\n",
        "  print(L)\n",
        "  print(len(L))\n",
        "\n",
        "fibonacci(25)"
      ],
      "metadata": {
        "colab": {
          "base_uri": "https://localhost:8080/"
        },
        "id": "U1IlehuX6xnU",
        "outputId": "dd2e4e4c-3653-43d9-c12c-c38e240fc9b4"
      },
      "execution_count": null,
      "outputs": [
        {
          "output_type": "stream",
          "name": "stdout",
          "text": [
            "[0, 1, 1, 2, 3, 5, 8, 13, 21, 34, 55, 89, 144, 233, 377, 610, 987, 1597, 2584, 4181, 6765, 10946, 17711, 28657, 46368]\n",
            "25\n"
          ]
        }
      ]
    },
    {
      "cell_type": "markdown",
      "source": [
        "36.Write a program to find the compound interest"
      ],
      "metadata": {
        "id": "ASRW6Fp6K0rr"
      }
    },
    {
      "cell_type": "code",
      "source": [
        "# ci = p(1+r/n)^nt\n",
        "\n",
        "P = int(input(\"Enter the pricinple amount: \"))\n",
        "R = float(input(\"Enter the rate of interest: \"))\n",
        "N = int(input(\"Enter the no. of times interest applied: \"))\n",
        "T = int(input(\"Enter the number of time period elapsed: \"))\n",
        "\n",
        "CI = P*(1+(R/N))**(N*T)\n",
        "print(\"CI=\",CI)"
      ],
      "metadata": {
        "colab": {
          "base_uri": "https://localhost:8080/"
        },
        "id": "zpW9d-KnA-B6",
        "outputId": "a4464009-df57-4564-899e-8de4e4be9ff3"
      },
      "execution_count": null,
      "outputs": [
        {
          "output_type": "stream",
          "name": "stdout",
          "text": [
            "Enter the pricinple amount: 100000\n",
            "Enter the rate of interest: 0.2\n",
            "Enter the no. of times interest applied: 6\n",
            "Enter the number of time period elapsed: 1\n",
            "CI= 121742.61742112492\n"
          ]
        }
      ]
    },
    {
      "cell_type": "markdown",
      "source": [
        "37.Write a Python program that accepts an integer (n) and computes the\n",
        "value of n+nn+nnn."
      ],
      "metadata": {
        "id": "ocYaGlxdK6au"
      }
    },
    {
      "cell_type": "code",
      "source": [
        "def sum_of_nnn(n):\n",
        "  a = str(n)\n",
        "  n1 = int(a+a)\n",
        "  n2 = int(a+a+a)\n",
        "  print(\"sum of\",n,\"+\",n1,\"+\",n2,\"=\",n+n1+n2)\n",
        "\n",
        "sum_of_nnn(55)"
      ],
      "metadata": {
        "colab": {
          "base_uri": "https://localhost:8080/"
        },
        "id": "kMqXVs4qB1fg",
        "outputId": "b25fc66e-390d-4e92-fc35-eb97284f296f"
      },
      "execution_count": null,
      "outputs": [
        {
          "output_type": "stream",
          "name": "stdout",
          "text": [
            "sum of 55 + 5555 + 555555 = 561165\n"
          ]
        }
      ]
    },
    {
      "cell_type": "markdown",
      "source": [
        "39.Print all factors of a given number provided by the user."
      ],
      "metadata": {
        "id": "K8yDSU0tVfZ6"
      }
    },
    {
      "cell_type": "code",
      "source": [
        "def factor(n):\n",
        "  L = []\n",
        "  for i in range(2,n+1):\n",
        "    if n % i == 0:\n",
        "      L.append(i)\n",
        "  print(\"factors of\",n,L)\n",
        "\n",
        "factor(40)"
      ],
      "metadata": {
        "colab": {
          "base_uri": "https://localhost:8080/"
        },
        "id": "6L7NliH1L6ev",
        "outputId": "05a2798d-271b-4f0f-b3b0-97636e707f54"
      },
      "execution_count": null,
      "outputs": [
        {
          "output_type": "stream",
          "name": "stdout",
          "text": [
            "factors of 40 [2, 4, 5, 8, 10, 20, 40]\n"
          ]
        }
      ]
    },
    {
      "cell_type": "markdown",
      "source": [
        "40. Find the reverse of a number provided by the user(any number of digit)"
      ],
      "metadata": {
        "id": "Pe77USBCWbxI"
      }
    },
    {
      "cell_type": "code",
      "source": [
        "def rev(n):\n",
        "  n = str(n)\n",
        "  rev = n[::-1]\n",
        "  rev = int(rev)\n",
        "  print(n,\"reversed to\",rev)\n",
        "\n",
        "rev(936)"
      ],
      "metadata": {
        "colab": {
          "base_uri": "https://localhost:8080/"
        },
        "id": "CuvJH0G3WGXj",
        "outputId": "c3213a82-e647-4714-cc7e-af39112f9c29"
      },
      "execution_count": null,
      "outputs": [
        {
          "output_type": "stream",
          "name": "stdout",
          "text": [
            "936 reversed to 639\n"
          ]
        }
      ]
    },
    {
      "cell_type": "code",
      "source": [],
      "metadata": {
        "id": "kH37YU38XC7J"
      },
      "execution_count": null,
      "outputs": []
    }
  ]
}