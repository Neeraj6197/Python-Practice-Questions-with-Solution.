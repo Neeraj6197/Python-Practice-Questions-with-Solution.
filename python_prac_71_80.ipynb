{
  "nbformat": 4,
  "nbformat_minor": 0,
  "metadata": {
    "colab": {
      "provenance": []
    },
    "kernelspec": {
      "name": "python3",
      "display_name": "Python 3"
    },
    "language_info": {
      "name": "python"
    }
  },
  "cells": [
    {
      "cell_type": "markdown",
      "source": [
        "71. Write a program that can perform union and intersection on 2 given list."
      ],
      "metadata": {
        "id": "iAXqIB-PSYYG"
      }
    },
    {
      "cell_type": "code",
      "execution_count": null,
      "metadata": {
        "colab": {
          "base_uri": "https://localhost:8080/"
        },
        "id": "6XRpsfbJRxYL",
        "outputId": "ddb8bb29-df2e-4a46-ceb9-bcaae55ff8bc"
      },
      "outputs": [
        {
          "output_type": "stream",
          "name": "stdout",
          "text": [
            "Enter the elements12345\n",
            "Enter the elements54678\n",
            "unioin:  ['1', '2', '3', '4', '5', '5', '4', '6', '7', '8']\n",
            "intersection:  ['4', '5']\n"
          ]
        }
      ],
      "source": [
        "list1 = list(input(\"Enter the elements\"))\n",
        "list2 = list(input(\"Enter the elements\"))\n",
        "\n",
        "def union_intersection(list1,list2):\n",
        "  union = list1 + list2\n",
        "  intersection = []\n",
        "  for i in list1:\n",
        "    if i in list2:\n",
        "      intersection.append(i)\n",
        "  print(\"unioin: \",union)\n",
        "  print(\"intersection: \",intersection)\n",
        "\n",
        "union_intersection(list1,list2)"
      ]
    },
    {
      "cell_type": "markdown",
      "source": [
        "72.the max item of each row of a matrix."
      ],
      "metadata": {
        "id": "thahdFoITtrT"
      }
    },
    {
      "cell_type": "code",
      "source": [
        "a = [[1,2,3],\n",
        "     [4,5,6],\n",
        "     [7,8,9]]\n",
        "\n",
        "def max_matrix(matrix):\n",
        "  for i in matrix:\n",
        "    print(max(i))\n",
        "\n",
        "max_matrix(a)"
      ],
      "metadata": {
        "colab": {
          "base_uri": "https://localhost:8080/"
        },
        "id": "bkcQZq3lTJFN",
        "outputId": "97b2c328-5c05-48b7-88fa-c79875ee1f39"
      },
      "execution_count": null,
      "outputs": [
        {
          "output_type": "stream",
          "name": "stdout",
          "text": [
            "3\n",
            "6\n",
            "9\n"
          ]
        }
      ]
    },
    {
      "cell_type": "markdown",
      "source": [
        "73.Write a program that can convert an integer to string."
      ],
      "metadata": {
        "id": "7UP0zq7UUW-s"
      }
    },
    {
      "cell_type": "code",
      "source": [
        "a = int(input(\"Enter the number: \"))\n",
        "def convert_to_str(num):\n",
        "  return str(num)\n",
        "\n",
        "convert_to_str(a)"
      ],
      "metadata": {
        "colab": {
          "base_uri": "https://localhost:8080/",
          "height": 53
        },
        "id": "EQg9pNh7UWai",
        "outputId": "fd90855e-55e6-4f9b-b2ea-71a68c859cc1"
      },
      "execution_count": null,
      "outputs": [
        {
          "name": "stdout",
          "output_type": "stream",
          "text": [
            "Enter the number: 123\n"
          ]
        },
        {
          "output_type": "execute_result",
          "data": {
            "text/plain": [
              "'123'"
            ],
            "application/vnd.google.colaboratory.intrinsic+json": {
              "type": "string"
            }
          },
          "metadata": {},
          "execution_count": 8
        }
      ]
    },
    {
      "cell_type": "markdown",
      "source": [
        "74.Write a program to print the shape of a matrix."
      ],
      "metadata": {
        "id": "tw1Pwc39U17P"
      }
    },
    {
      "cell_type": "code",
      "source": [
        "a = [[1,2,3,4],\n",
        "     [4,5,6,7],\n",
        "     [7,8,9,10]]\n",
        "\n",
        "def shape_matrix(a):\n",
        "  row = 0\n",
        "  col = 0\n",
        "  for i in a:\n",
        "    row += 1\n",
        "  for j in i:\n",
        "    col += 1\n",
        "  print(\"shape: \",(row,col))\n",
        "\n",
        "shape_matrix(a)"
      ],
      "metadata": {
        "colab": {
          "base_uri": "https://localhost:8080/"
        },
        "id": "BXttinR_UTPT",
        "outputId": "a767b2e0-a08c-48a8-8f49-d30eba21a7ff"
      },
      "execution_count": null,
      "outputs": [
        {
          "output_type": "stream",
          "name": "stdout",
          "text": [
            "shape:  (3, 4)\n"
          ]
        }
      ]
    },
    {
      "cell_type": "markdown",
      "source": [
        "75.Write a program that can check if you can perform matrix\n",
        "multiplication on 2 matrices"
      ],
      "metadata": {
        "id": "MBvU1NgPVzV-"
      }
    },
    {
      "cell_type": "code",
      "source": [
        "import numpy as np\n",
        "a = np.array([[1,2,3,4],\n",
        "     [4,5,6,7],\n",
        "     [7,8,9,10]])\n",
        "\n",
        "b = np.array([[11,22,33,44],\n",
        "     [44,55,66,77],\n",
        "     [77,88,99,100]])\n",
        "\n",
        "def multi_check(a,b):\n",
        "  if a.shape == b.shape:\n",
        "    print(\"the matrices can be multiplied.\")\n",
        "  else:\n",
        "    print(\"the matrices cannot be multiplied.\")\n",
        "\n",
        "multi_check(a,b)   \n"
      ],
      "metadata": {
        "colab": {
          "base_uri": "https://localhost:8080/"
        },
        "id": "-utmKfRmVP2C",
        "outputId": "f9d69b91-901e-4ac0-ef74-a73d8e50b329"
      },
      "execution_count": null,
      "outputs": [
        {
          "output_type": "stream",
          "name": "stdout",
          "text": [
            "the matrices can be multiplied.\n"
          ]
        }
      ]
    },
    {
      "cell_type": "markdown",
      "source": [
        "76.Write a program to perform matrix multiplication on 2 matrices"
      ],
      "metadata": {
        "id": "MO3NuCh3aKht"
      }
    },
    {
      "cell_type": "code",
      "source": [
        "a = np.array([[1,2,3,4],\n",
        "     [4,5,6,7],\n",
        "     [7,8,9,10]])\n",
        "\n",
        "b = np.array([[11,22,33,44],\n",
        "     [44,55,66,77],\n",
        "     [77,88,99,100]])\n",
        "\n",
        "def mat_multi(a,b):\n",
        "  if a.shape==b.shape:\n",
        "    print(a*b)\n",
        "  else:\n",
        "    print(\"shape of the matrices don't match.\")\n",
        "\n",
        "mat_multi(a,b)"
      ],
      "metadata": {
        "colab": {
          "base_uri": "https://localhost:8080/"
        },
        "id": "UpvU0gZeXpMq",
        "outputId": "345408ed-5100-4ee0-c790-07599faaf75b"
      },
      "execution_count": null,
      "outputs": [
        {
          "output_type": "stream",
          "name": "stdout",
          "text": [
            "[[  11   44   99  176]\n",
            " [ 176  275  396  539]\n",
            " [ 539  704  891 1000]]\n"
          ]
        }
      ]
    },
    {
      "cell_type": "markdown",
      "source": [
        "77. Write a program that can sort a given unsorted list. Dont use any built in\n",
        "function for sorting."
      ],
      "metadata": {
        "id": "0z5CbMi1a6SX"
      }
    },
    {
      "cell_type": "code",
      "source": [
        "L = list(input(\"Enter the elements in the list: \"))\n",
        "\n",
        "def sort_list(L):\n",
        "  sorted = []\n",
        "  L1 = L\n",
        "  for i in range(len(L1)):\n",
        "    sorted.append(min(L1))\n",
        "    L1.remove(min(L1))\n",
        "  return sorted\n",
        "\n",
        "sort_list(L)  "
      ],
      "metadata": {
        "colab": {
          "base_uri": "https://localhost:8080/"
        },
        "id": "ZtNYHj_Ta0lR",
        "outputId": "659e6dfd-c79a-4cbb-df3f-0094620f6c6a"
      },
      "execution_count": null,
      "outputs": [
        {
          "name": "stdout",
          "output_type": "stream",
          "text": [
            "Enter the elements in the list: 54321\n"
          ]
        },
        {
          "output_type": "execute_result",
          "data": {
            "text/plain": [
              "['1', '2', '3', '4', '5']"
            ]
          },
          "metadata": {},
          "execution_count": 32
        }
      ]
    },
    {
      "cell_type": "markdown",
      "source": [
        "79.Assume a list with numbers from 1 to 10 and then convert it into a\n",
        "dictionary where the key would be the numbers of the list and the\n",
        "values would be the square of those numbers."
      ],
      "metadata": {
        "id": "Fut3ihkghWuf"
      }
    },
    {
      "cell_type": "code",
      "source": [
        "L = [1,2,3,4,5,6,7,8,9,10]\n",
        "\n",
        "dict1 = {i:i**2 for i in L} \n",
        "print(dict1)"
      ],
      "metadata": {
        "colab": {
          "base_uri": "https://localhost:8080/"
        },
        "id": "ft-ps4tncX9B",
        "outputId": "2d1a09d3-191e-402b-8e58-be5708ba6f8f"
      },
      "execution_count": null,
      "outputs": [
        {
          "output_type": "stream",
          "name": "stdout",
          "text": [
            "{1: 1, 2: 4, 3: 9, 4: 16, 5: 25, 6: 36, 7: 49, 8: 64, 9: 81, 10: 100}\n"
          ]
        }
      ]
    },
    {
      "cell_type": "markdown",
      "source": [
        "80.Write a program to merge two given dictionary"
      ],
      "metadata": {
        "id": "jgpMJpLCjAzO"
      }
    },
    {
      "cell_type": "code",
      "source": [
        "dict1 = {1:1,2:2,3:3,4:4}\n",
        "dict2 = {5:5,6:6,7:7,8:8}\n",
        "\n",
        "def merge(dict1,dict2):\n",
        "  res = {**dict1,**dict2}\n",
        "  return res\n",
        "\n",
        "merge(dict1,dict2)"
      ],
      "metadata": {
        "colab": {
          "base_uri": "https://localhost:8080/"
        },
        "id": "8YQN5lLIeDNJ",
        "outputId": "ca9d0e87-5435-4126-b25c-cbfc539240c6"
      },
      "execution_count": null,
      "outputs": [
        {
          "output_type": "execute_result",
          "data": {
            "text/plain": [
              "{1: 1, 2: 2, 3: 3, 4: 4, 5: 5, 6: 6, 7: 7, 8: 8}"
            ]
          },
          "metadata": {},
          "execution_count": 42
        }
      ]
    },
    {
      "cell_type": "code",
      "source": [
        "dict1 = {1:1,2:2,3:3,4:4}\n",
        "dict2 = {5:5,6:6,7:7,8:8}\n",
        "\n",
        "dict1.update(dict2)\n",
        "dict1"
      ],
      "metadata": {
        "colab": {
          "base_uri": "https://localhost:8080/"
        },
        "id": "SrN_ksC8jlki",
        "outputId": "1de261c1-680a-4855-9d34-4e24266830ce"
      },
      "execution_count": null,
      "outputs": [
        {
          "output_type": "execute_result",
          "data": {
            "text/plain": [
              "{1: 1, 2: 2, 3: 3, 4: 4, 5: 5, 6: 6, 7: 7, 8: 8}"
            ]
          },
          "metadata": {},
          "execution_count": 44
        }
      ]
    },
    {
      "cell_type": "code",
      "source": [],
      "metadata": {
        "id": "fJGybr2xlwol"
      },
      "execution_count": null,
      "outputs": []
    }
  ]
}