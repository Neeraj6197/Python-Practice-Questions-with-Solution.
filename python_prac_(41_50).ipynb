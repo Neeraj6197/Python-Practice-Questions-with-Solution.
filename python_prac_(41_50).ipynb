{
  "nbformat": 4,
  "nbformat_minor": 0,
  "metadata": {
    "colab": {
      "provenance": []
    },
    "kernelspec": {
      "name": "python3",
      "display_name": "Python 3"
    },
    "language_info": {
      "name": "python"
    }
  },
  "cells": [
    {
      "cell_type": "markdown",
      "source": [
        "41. Write a program to print the following pattern\n",
        "-*\n",
        "\n",
        "-**\n",
        "\n",
        "-***\n",
        "\n",
        "-****\n",
        "\n",
        "-*****"
      ],
      "metadata": {
        "id": "FXchyBYJgoz-"
      }
    },
    {
      "cell_type": "code",
      "execution_count": null,
      "metadata": {
        "colab": {
          "base_uri": "https://localhost:8080/"
        },
        "id": "8Xp7rMZTgSa_",
        "outputId": "0b6daf7f-61f7-4551-e917-b56f41fcf9c9"
      },
      "outputs": [
        {
          "output_type": "stream",
          "name": "stdout",
          "text": [
            "\n",
            "*\n",
            "**\n",
            "***\n",
            "****\n",
            "*****\n"
          ]
        }
      ],
      "source": [
        "for i in range(0,6):\n",
        "  print('*'*i)"
      ]
    },
    {
      "cell_type": "markdown",
      "source": [
        "42.Write a program to print the following pattern\n",
        "\n",
        "*\n",
        "\n",
        "**\n",
        "\n",
        "-***\n",
        "\n",
        "**\n",
        "\n",
        "*"
      ],
      "metadata": {
        "id": "l9couotKhR9O"
      }
    },
    {
      "cell_type": "code",
      "source": [
        "row = int(input(\"enter the number of rows: \"))\n",
        "\n",
        "for i in range(1,row+1):\n",
        "  print(\"*\"*i)\n",
        "for j in range(row+1,0,-1):\n",
        "  print(\"*\"*j)"
      ],
      "metadata": {
        "colab": {
          "base_uri": "https://localhost:8080/"
        },
        "id": "PELEhxd1hE6F",
        "outputId": "755cc388-f990-4b8a-942a-e6538184d833"
      },
      "execution_count": null,
      "outputs": [
        {
          "output_type": "stream",
          "name": "stdout",
          "text": [
            "enter the number of rows: 15\n",
            "*\n",
            "**\n",
            "***\n",
            "****\n",
            "*****\n",
            "******\n",
            "*******\n",
            "********\n",
            "*********\n",
            "**********\n",
            "***********\n",
            "************\n",
            "*************\n",
            "**************\n",
            "***************\n",
            "****************\n",
            "***************\n",
            "**************\n",
            "*************\n",
            "************\n",
            "***********\n",
            "**********\n",
            "*********\n",
            "********\n",
            "*******\n",
            "******\n",
            "*****\n",
            "****\n",
            "***\n",
            "**\n",
            "*\n"
          ]
        }
      ]
    },
    {
      "cell_type": "markdown",
      "source": [
        "43.Write a program to print the following pattern\n",
        "\n",
        "'*\n",
        "\n",
        "'* * *\n",
        "\n",
        "'* * * * *\n",
        "\n",
        "'* * * * * * *\n",
        "\n",
        "'* * * * * * * * *"
      ],
      "metadata": {
        "id": "lNqTgP98i-6o"
      }
    },
    {
      "cell_type": "code",
      "source": [
        "row = int(input(\"Enter the no. of rows: \"))\n",
        "\n",
        "for i in range(1,row*2,2):\n",
        "  print(\" \"*((row*2)-i),end=\" \")\n",
        "  print(\"* \"*i)"
      ],
      "metadata": {
        "colab": {
          "base_uri": "https://localhost:8080/"
        },
        "id": "Rjozru_w40WU",
        "outputId": "84b474bc-eb4d-4c26-c3e7-e065c053e99c"
      },
      "execution_count": null,
      "outputs": [
        {
          "output_type": "stream",
          "name": "stdout",
          "text": [
            "Enter the no. of rows: 10\n",
            "                    * \n",
            "                  * * * \n",
            "                * * * * * \n",
            "              * * * * * * * \n",
            "            * * * * * * * * * \n",
            "          * * * * * * * * * * * \n",
            "        * * * * * * * * * * * * * \n",
            "      * * * * * * * * * * * * * * * \n",
            "    * * * * * * * * * * * * * * * * * \n",
            "  * * * * * * * * * * * * * * * * * * * \n"
          ]
        }
      ]
    },
    {
      "cell_type": "markdown",
      "source": [
        "44. Write a program to print the following pattern\n",
        "\n",
        "1\n",
        "\n",
        "1 2 1\n",
        "\n",
        "1 2 3 2 1\n",
        "\n",
        "1 2 3 4 3 2 1\n",
        "\n",
        "1 2 3 4 5 4 3 2 1"
      ],
      "metadata": {
        "id": "uA_sku8opkx6"
      }
    },
    {
      "cell_type": "code",
      "source": [
        "n = int(input(\"Enter the number of rows: \"))\n",
        "\n",
        "for i in range(1,n+1):\n",
        "  for j in range(1,i+1):\n",
        "    print(j,end=\" \")\n",
        "  for k in range(i-1,0,-1):\n",
        "    print(k,end=\" \")\n",
        "  print(\" \")"
      ],
      "metadata": {
        "id": "JuTFWvsIvMF-",
        "colab": {
          "base_uri": "https://localhost:8080/"
        },
        "outputId": "1ab0957b-922e-45c5-af10-a86eef3df602"
      },
      "execution_count": null,
      "outputs": [
        {
          "output_type": "stream",
          "name": "stdout",
          "text": [
            "Enter the number of rows: 5\n",
            "1  \n",
            "1 2 1  \n",
            "1 2 3 2 1  \n",
            "1 2 3 4 3 2 1  \n",
            "1 2 3 4 5 4 3 2 1  \n"
          ]
        }
      ]
    },
    {
      "cell_type": "markdown",
      "source": [
        "45. Write a program to print the following pattern\n",
        "\n",
        "1\n",
        "\n",
        "2 3\n",
        "\n",
        "4 5 6\n",
        "\n",
        "7 8 9 10\n"
      ],
      "metadata": {
        "id": "NlSNWCk3F_9O"
      }
    },
    {
      "cell_type": "code",
      "source": [
        "n = int(input(\"Enter the no. of rows: \"))\n",
        "num = 1\n",
        "for i in range(1,n+1):\n",
        "  for j in range(1,i+1):\n",
        "    print(num,end=\" \")\n",
        "    num = num+1\n",
        "  print(\" \")"
      ],
      "metadata": {
        "colab": {
          "base_uri": "https://localhost:8080/"
        },
        "id": "c7zATBgu6TDA",
        "outputId": "26c598ee-14bb-49a7-fc87-4b507668b02e"
      },
      "execution_count": null,
      "outputs": [
        {
          "output_type": "stream",
          "name": "stdout",
          "text": [
            "Enter the no. of rows: 4\n",
            "1  \n",
            "2 3  \n",
            "4 5 6  \n",
            "7 8 9 10  \n"
          ]
        }
      ]
    },
    {
      "cell_type": "markdown",
      "source": [
        "46. Write a program to calculate the sum of the following series till the\n",
        "nth term\n",
        "1/1! + 2/2! + 3/3! + 4/4! +…….+ n/n!\n",
        "n will be provided by the user"
      ],
      "metadata": {
        "id": "IJGcph1TJcLT"
      }
    },
    {
      "cell_type": "code",
      "source": [
        "n = int(input(\"Enter the nth term: \"))\n",
        "L = []\n",
        "for i in range(1,n+1):\n",
        "  a = i\n",
        "  b = 1\n",
        "  for j in range(1,i+1):\n",
        "    b = j*b\n",
        "  L.append(a/b)\n",
        "print(sum(L))"
      ],
      "metadata": {
        "colab": {
          "base_uri": "https://localhost:8080/"
        },
        "id": "qhzuIs7P8aJZ",
        "outputId": "a7b01c05-95ec-4efa-f1d5-bfa09141ade5"
      },
      "execution_count": null,
      "outputs": [
        {
          "output_type": "stream",
          "name": "stdout",
          "text": [
            "Entert the nth term: 5\n",
            "2.708333333333333\n"
          ]
        }
      ]
    },
    {
      "cell_type": "markdown",
      "source": [
        "47. Write a Python Program to Find the Sum of the Series till the nth term:\n",
        "1 + x^2/2 + x^3/3 + … x^n/n\n",
        "n will be provided by the user"
      ],
      "metadata": {
        "id": "dL-2CeWQNhHt"
      }
    },
    {
      "cell_type": "code",
      "source": [
        "n = int(input(\"Enter the nth term: \"))\n",
        "x = int(input(\"Enter the value of x: \"))\n",
        "L = []\n",
        "\n",
        "for i in range(2,n+1):\n",
        "  a = x**(i)\n",
        "  b = a/i\n",
        "  L.append(b)\n",
        "print(1+sum(L))"
      ],
      "metadata": {
        "colab": {
          "base_uri": "https://localhost:8080/"
        },
        "id": "UMF0su7wKyf2",
        "outputId": "69e24bb4-9b30-4a50-99df-9b4f28d093ed"
      },
      "execution_count": null,
      "outputs": [
        {
          "output_type": "stream",
          "name": "stdout",
          "text": [
            "Enter the nth term: 4\n",
            "Enter the value of x: 3\n",
            "34.75\n"
          ]
        }
      ]
    },
    {
      "cell_type": "markdown",
      "source": [
        "48.The natural logarithm can be approximated by the following series.\n",
        "If x is input through the keyboard, write a program to calculate the\n",
        "sum of the first seven terms of this series.\n"
      ],
      "metadata": {
        "id": "jIOCXR-rOuQZ"
      }
    },
    {
      "cell_type": "code",
      "source": [
        "n = int(input(\"Enter the nth term: \"))\n",
        "x = int(input(\"Enter the value of x: \"))\n",
        "L = []\n",
        "\n",
        "a = (x-1)/x\n",
        "for i in range(2,n+1):\n",
        "  b = (1/2)*a**i\n",
        "  L.append(b)\n",
        "print(a+sum(L))"
      ],
      "metadata": {
        "colab": {
          "base_uri": "https://localhost:8080/"
        },
        "id": "Za8BhrE6Os_h",
        "outputId": "64175759-3925-4f2a-bc88-257f4f047109"
      },
      "execution_count": null,
      "outputs": [
        {
          "output_type": "stream",
          "name": "stdout",
          "text": [
            "Enter the nth term: 7\n",
            "Enter the value of x: 4\n",
            "1.674774169921875\n"
          ]
        }
      ]
    },
    {
      "cell_type": "markdown",
      "source": [
        "49. Write a program that keeps on accepting a number from the user until\n",
        "the user enters Zero. Display the sum and average of all the numbers."
      ],
      "metadata": {
        "id": "tD2M1nxtPgTX"
      }
    },
    {
      "cell_type": "code",
      "source": [
        "L = []\n",
        "user_input = int(input(\"Enter the number: \"))\n",
        "L.append(user_input)\n",
        "\n",
        "while user_input != 0:\n",
        "    a = int(input(\"Enter the number: \"))\n",
        "    if a > 0:\n",
        "      L.append(a)\n",
        "    else:\n",
        "      break\n",
        "\n",
        "print(\"Total=\",sum(L))\n",
        "print(\"Average=\",(sum(L)/len(L)))"
      ],
      "metadata": {
        "colab": {
          "base_uri": "https://localhost:8080/"
        },
        "id": "4NZCLwMoOih6",
        "outputId": "8302c4a9-1351-42c3-c2c1-0d0e4e3fd354"
      },
      "execution_count": null,
      "outputs": [
        {
          "output_type": "stream",
          "name": "stdout",
          "text": [
            "Enter the number: 1\n",
            "Enter the number: 2\n",
            "Enter the number: 3\n",
            "Enter the number: 4\n",
            "Enter the number: 5\n",
            "Enter the number: 6\n",
            "Enter the number: 0\n",
            "Total= 21\n",
            "Average= 3.5\n"
          ]
        }
      ]
    },
    {
      "cell_type": "markdown",
      "source": [
        "50.Write a program that accepts 2 numbers from the user a numerator\n",
        "and a denominator and then simplifies it\n",
        "Eg if the num = 5, den = 15 the answer should be ⅓\n",
        "Eg if the num = 6, den = 9 the answer should be ⅔\n"
      ],
      "metadata": {
        "id": "BHE58ujhR-M4"
      }
    },
    {
      "cell_type": "code",
      "source": [
        "a = int(input(\"Enter the 1st number: \"))\n",
        "b = int(input(\"Enter the 2nd number: \"))\n",
        "\n",
        "def division(a,b):\n",
        "  A = []\n",
        "  B = []\n",
        "  for i in range(2,a+1):\n",
        "    if a % i == 0:\n",
        "      A.append(i)\n",
        "  for i in range(2,b+1):\n",
        "    if b % i == 0:\n",
        "      B.append(i)\n",
        "\n",
        "  L = []\n",
        "  for i in A:\n",
        "    if i in B:\n",
        "      L.append(i)\n",
        "\n",
        "  div = max(L)\n",
        "  num = a // div\n",
        "  den = b // div\n",
        "  print(num,\"/\",den)\n",
        "\n",
        "division(a,b)\n"
      ],
      "metadata": {
        "colab": {
          "base_uri": "https://localhost:8080/"
        },
        "id": "zHXGzsagQYBx",
        "outputId": "4f6d164e-5805-41a4-f42d-caa21951d3f3"
      },
      "execution_count": null,
      "outputs": [
        {
          "output_type": "stream",
          "name": "stdout",
          "text": [
            "Enter the 1st number: 6\n",
            "Enter the 2nd number: 9\n",
            "2 / 3\n"
          ]
        }
      ]
    },
    {
      "cell_type": "code",
      "source": [],
      "metadata": {
        "id": "jsJFS9NRSjUq"
      },
      "execution_count": null,
      "outputs": []
    },
    {
      "cell_type": "code",
      "source": [],
      "metadata": {
        "id": "fk0j_wV9VXwL"
      },
      "execution_count": null,
      "outputs": []
    },
    {
      "cell_type": "code",
      "source": [],
      "metadata": {
        "id": "Xe0fYurEVuEJ"
      },
      "execution_count": null,
      "outputs": []
    }
  ]
}